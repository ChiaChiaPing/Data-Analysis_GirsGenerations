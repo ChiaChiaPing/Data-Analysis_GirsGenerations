{
 "cells": [
  {
   "cell_type": "code",
   "execution_count": 2,
   "metadata": {},
   "outputs": [],
   "source": [
    "import pandas as pd\n",
    "import numpy as np\n",
    "import matplotlib.pyplot as plt\n",
    "import seaborn as sns\n",
    "%matplotlib inline\n",
    "\n",
    "pd.options.display.max_columns=40"
   ]
  },
  {
   "cell_type": "code",
   "execution_count": 3,
   "metadata": {},
   "outputs": [],
   "source": [
    "df=pd.read_csv(\"girlgeneration(utf8).csv\")"
   ]
  },
  {
   "cell_type": "markdown",
   "metadata": {},
   "source": [
    "# 搖滾區：共有1669張票\n",
    "# 非搖滾區：共有5400張\n",
    "\n",
    "### Q1. Split the data into two groups => with and without seats (非搖滾與搖滾區)\n",
    "- 座位編號是空值的"
   ]
  },
  {
   "cell_type": "code",
   "execution_count": 6,
   "metadata": {},
   "outputs": [
    {
     "data": {
      "text/plain": [
       "2581"
      ]
     },
     "execution_count": 6,
     "metadata": {},
     "output_type": "execute_result"
    }
   ],
   "source": [
    "len(df[df[\"SEAT_REGION_NAME\"].str.contains(\"FloorB1\")])"
   ]
  },
  {
   "cell_type": "code",
   "execution_count": null,
   "metadata": {},
   "outputs": [],
   "source": [
    "# 搖滾區位置各多一個"
   ]
  },
  {
   "cell_type": "code",
   "execution_count": 8,
   "metadata": {},
   "outputs": [
    {
     "data": {
      "text/plain": [
       "353"
      ]
     },
     "execution_count": 8,
     "metadata": {},
     "output_type": "execute_result"
    }
   ],
   "source": [
    "mask1=df[\"SEAT_ROW\"].isnull() \n",
    "mask2=df[\"SEAT_REGION_NAME\"].str.contains(\"FloorB1FloorSectionD\")\n",
    "len(df[mask1 & mask2])"
   ]
  },
  {
   "cell_type": "code",
   "execution_count": 4,
   "metadata": {},
   "outputs": [],
   "source": [
    "# 1 代表有座位，0 代表沒座位\n",
    "seat_exist=pd.get_dummies(df[\"SEAT_REGION_NAME\"].str.contains(\"FloorB1\"),drop_first=False)[False]"
   ]
  },
  {
   "cell_type": "code",
   "execution_count": 5,
   "metadata": {},
   "outputs": [],
   "source": [
    "df[\"WITH_SEAT\"]=seat_exist\n",
    "df[\"WITH_SEAT\"]=df[\"WITH_SEAT\"].map({1:\"A\",0:\"B\"})"
   ]
  },
  {
   "cell_type": "code",
   "execution_count": 6,
   "metadata": {
    "scrolled": true
   },
   "outputs": [
    {
     "data": {
      "text/html": [
       "<div>\n",
       "<style scoped>\n",
       "    .dataframe tbody tr th:only-of-type {\n",
       "        vertical-align: middle;\n",
       "    }\n",
       "\n",
       "    .dataframe tbody tr th {\n",
       "        vertical-align: top;\n",
       "    }\n",
       "\n",
       "    .dataframe thead th {\n",
       "        text-align: right;\n",
       "    }\n",
       "</style>\n",
       "<table border=\"1\" class=\"dataframe\">\n",
       "  <thead>\n",
       "    <tr style=\"text-align: right;\">\n",
       "      <th></th>\n",
       "      <th>SERIAL_ID</th>\n",
       "      <th>ORDER_ID</th>\n",
       "      <th>TICKET_ITEM_ID</th>\n",
       "      <th>PRINT_TIMES</th>\n",
       "      <th>IDENTITY</th>\n",
       "      <th>PROGRAM_ID</th>\n",
       "      <th>PROGRAM_NAME</th>\n",
       "      <th>CREATE_DATE</th>\n",
       "      <th>PLAY_DATE</th>\n",
       "      <th>PLAY_TIME</th>\n",
       "      <th>TICKET_BOOTH_RUNNING_NUM</th>\n",
       "      <th>PRICE</th>\n",
       "      <th>T_STANDARD_TICKET_TYPE_NAME</th>\n",
       "      <th>SEAT_REGION_NAME</th>\n",
       "      <th>FLOOR_NO</th>\n",
       "      <th>SEAT_ROW</th>\n",
       "      <th>SEAT_NO</th>\n",
       "      <th>TICKET_SHIPPING_RATE_ID</th>\n",
       "      <th>TICKET_FEE</th>\n",
       "      <th>SHIPPING_ZIP1</th>\n",
       "      <th>SHIPPING_COUNTRY_ID1</th>\n",
       "      <th>SHIPPING_TOWN_ID1</th>\n",
       "      <th>RECEIPT_TITLE</th>\n",
       "      <th>SHIPPING_COUNTRY_ID2</th>\n",
       "      <th>SHIPPING_TOWN_ID2</th>\n",
       "      <th>SHIPPING_ZIP2</th>\n",
       "      <th>ORDER_NUM</th>\n",
       "      <th>TICKET_ENTRANCE_NO</th>\n",
       "      <th>SEX</th>\n",
       "      <th>ADDRESS</th>\n",
       "      <th>WITH_SEAT</th>\n",
       "    </tr>\n",
       "  </thead>\n",
       "  <tbody>\n",
       "    <tr>\n",
       "      <th>0</th>\n",
       "      <td>331</td>\n",
       "      <td>26237</td>\n",
       "      <td>52196</td>\n",
       "      <td>2</td>\n",
       "      <td>K12197</td>\n",
       "      <td>11</td>\n",
       "      <td>Girls Generation. THE lst ASIA TOUR Into the n...</td>\n",
       "      <td>2010/10/14 p.m. 11:25:58.</td>\n",
       "      <td>2010/10/17</td>\n",
       "      <td>15:00</td>\n",
       "      <td>41139</td>\n",
       "      <td>1800</td>\n",
       "      <td>non-member</td>\n",
       "      <td>Floor3Sectionyellow3I</td>\n",
       "      <td>1</td>\n",
       "      <td>11.0</td>\n",
       "      <td>10.0</td>\n",
       "      <td>4</td>\n",
       "      <td>50</td>\n",
       "      <td>114.0</td>\n",
       "      <td>1</td>\n",
       "      <td>10</td>\n",
       "      <td>NaN</td>\n",
       "      <td>5</td>\n",
       "      <td>61</td>\n",
       "      <td>300.0</td>\n",
       "      <td>26237</td>\n",
       "      <td>0</td>\n",
       "      <td>male</td>\n",
       "      <td>2103</td>\n",
       "      <td>A</td>\n",
       "    </tr>\n",
       "    <tr>\n",
       "      <th>1</th>\n",
       "      <td>332</td>\n",
       "      <td>26237</td>\n",
       "      <td>52195</td>\n",
       "      <td>2</td>\n",
       "      <td>K12197</td>\n",
       "      <td>11</td>\n",
       "      <td>Girls Generation. THE lst ASIA TOUR Into the n...</td>\n",
       "      <td>2010/10/14 p.m. 11:25:58.</td>\n",
       "      <td>2010/10/17</td>\n",
       "      <td>15:00</td>\n",
       "      <td>41138</td>\n",
       "      <td>1800</td>\n",
       "      <td>non-member</td>\n",
       "      <td>Floor3Sectionyellow3I</td>\n",
       "      <td>1</td>\n",
       "      <td>11.0</td>\n",
       "      <td>11.0</td>\n",
       "      <td>4</td>\n",
       "      <td>50</td>\n",
       "      <td>114.0</td>\n",
       "      <td>1</td>\n",
       "      <td>10</td>\n",
       "      <td>NaN</td>\n",
       "      <td>5</td>\n",
       "      <td>61</td>\n",
       "      <td>300.0</td>\n",
       "      <td>26237</td>\n",
       "      <td>0</td>\n",
       "      <td>male</td>\n",
       "      <td>2103</td>\n",
       "      <td>A</td>\n",
       "    </tr>\n",
       "    <tr>\n",
       "      <th>2</th>\n",
       "      <td>378</td>\n",
       "      <td>24923</td>\n",
       "      <td>46903</td>\n",
       "      <td>3</td>\n",
       "      <td>L22289</td>\n",
       "      <td>11</td>\n",
       "      <td>Girls Generation. THE lst ASIA TOUR Into the n...</td>\n",
       "      <td>2010/9/18 p.m. 11:26:37.</td>\n",
       "      <td>2010/10/17</td>\n",
       "      <td>15:00</td>\n",
       "      <td>39579</td>\n",
       "      <td>1800</td>\n",
       "      <td>member</td>\n",
       "      <td>Floor3Sectionyellow3C</td>\n",
       "      <td>1</td>\n",
       "      <td>25.0</td>\n",
       "      <td>7.0</td>\n",
       "      <td>2</td>\n",
       "      <td>50</td>\n",
       "      <td>434.0</td>\n",
       "      <td>10</td>\n",
       "      <td>129</td>\n",
       "      <td>NaN</td>\n",
       "      <td>10</td>\n",
       "      <td>129</td>\n",
       "      <td>434.0</td>\n",
       "      <td>24923</td>\n",
       "      <td>0</td>\n",
       "      <td>male</td>\n",
       "      <td>2682</td>\n",
       "      <td>A</td>\n",
       "    </tr>\n",
       "  </tbody>\n",
       "</table>\n",
       "</div>"
      ],
      "text/plain": [
       "   SERIAL_ID  ORDER_ID  TICKET_ITEM_ID  PRINT_TIMES IDENTITY  PROGRAM_ID  \\\n",
       "0        331     26237           52196            2   K12197          11   \n",
       "1        332     26237           52195            2   K12197          11   \n",
       "2        378     24923           46903            3   L22289          11   \n",
       "\n",
       "                                        PROGRAM_NAME  \\\n",
       "0  Girls Generation. THE lst ASIA TOUR Into the n...   \n",
       "1  Girls Generation. THE lst ASIA TOUR Into the n...   \n",
       "2  Girls Generation. THE lst ASIA TOUR Into the n...   \n",
       "\n",
       "                 CREATE_DATE   PLAY_DATE PLAY_TIME  TICKET_BOOTH_RUNNING_NUM  \\\n",
       "0  2010/10/14 p.m. 11:25:58.  2010/10/17     15:00                     41139   \n",
       "1  2010/10/14 p.m. 11:25:58.  2010/10/17     15:00                     41138   \n",
       "2   2010/9/18 p.m. 11:26:37.  2010/10/17     15:00                     39579   \n",
       "\n",
       "   PRICE T_STANDARD_TICKET_TYPE_NAME       SEAT_REGION_NAME  FLOOR_NO  \\\n",
       "0   1800                  non-member  Floor3Sectionyellow3I         1   \n",
       "1   1800                  non-member  Floor3Sectionyellow3I         1   \n",
       "2   1800                      member  Floor3Sectionyellow3C         1   \n",
       "\n",
       "   SEAT_ROW  SEAT_NO  TICKET_SHIPPING_RATE_ID  TICKET_FEE  SHIPPING_ZIP1  \\\n",
       "0      11.0     10.0                        4          50          114.0   \n",
       "1      11.0     11.0                        4          50          114.0   \n",
       "2      25.0      7.0                        2          50          434.0   \n",
       "\n",
       "   SHIPPING_COUNTRY_ID1  SHIPPING_TOWN_ID1 RECEIPT_TITLE  \\\n",
       "0                     1                 10           NaN   \n",
       "1                     1                 10           NaN   \n",
       "2                    10                129           NaN   \n",
       "\n",
       "   SHIPPING_COUNTRY_ID2  SHIPPING_TOWN_ID2  SHIPPING_ZIP2  ORDER_NUM  \\\n",
       "0                     5                 61          300.0      26237   \n",
       "1                     5                 61          300.0      26237   \n",
       "2                    10                129          434.0      24923   \n",
       "\n",
       "   TICKET_ENTRANCE_NO   SEX  ADDRESS WITH_SEAT  \n",
       "0                   0  male     2103         A  \n",
       "1                   0  male     2103         A  \n",
       "2                   0  male     2682         A  "
      ]
     },
     "execution_count": 6,
     "metadata": {},
     "output_type": "execute_result"
    }
   ],
   "source": [
    "df.head(3)"
   ]
  },
  {
   "cell_type": "code",
   "execution_count": 7,
   "metadata": {},
   "outputs": [],
   "source": [
    "selected_features=[\"CREATE_DATE\",\"PRICE\",\"ORDER_ID\",\"T_STANDARD_TICKET_TYPE_NAME\",\"SEAT_REGION_NAME\",\"WITH_SEAT\"]"
   ]
  },
  {
   "cell_type": "code",
   "execution_count": 8,
   "metadata": {},
   "outputs": [],
   "source": [
    "data=df[selected_features].rename(columns={\"T_STANDARD_TICKET_TYPE_NAME\":\"MEMBER_TYPE\",\"seat_exist\":\"WITH_SEAT\"}).copy()"
   ]
  },
  {
   "cell_type": "code",
   "execution_count": 9,
   "metadata": {},
   "outputs": [
    {
     "name": "stdout",
     "output_type": "stream",
     "text": [
      "A 5400\n",
      "B 1669\n"
     ]
    }
   ],
   "source": [
    "# 非搖滾區共有\n",
    "print(\"A\",len(data[data[\"WITH_SEAT\"]==\"A\"]))\n",
    "\n",
    "# 搖滾區共有\n",
    "print(\"B\",len(data[data[\"WITH_SEAT\"]==\"B\"]))"
   ]
  },
  {
   "cell_type": "markdown",
   "metadata": {},
   "source": [
    "# 2.Data Preprocessing\n",
    "- 2.1 convert time feature to panda's time object\n",
    "- 2.2 Add total tickets "
   ]
  },
  {
   "cell_type": "code",
   "execution_count": 10,
   "metadata": {},
   "outputs": [],
   "source": [
    "def convertTimeObject(row):\n",
    "    date=row.split(\" \")[0]\n",
    "    time=row.split(\" \")[2].replace(\".\",\"\")\n",
    "    p=row.split(\" \")[1].replace(\".\",\"\")\n",
    "    timeObj=date+\" \"+time+\" \"+p\n",
    "    return timeObj"
   ]
  },
  {
   "cell_type": "code",
   "execution_count": 11,
   "metadata": {},
   "outputs": [],
   "source": [
    "data.CREATE_DATE=pd.DatetimeIndex(data.CREATE_DATE.apply(convertTimeObject))"
   ]
  },
  {
   "cell_type": "code",
   "execution_count": 12,
   "metadata": {},
   "outputs": [],
   "source": [
    "data.set_index(\"CREATE_DATE\",inplace=True)\n",
    "data.sort_index(ascending=True,inplace=True)"
   ]
  },
  {
   "cell_type": "code",
   "execution_count": 13,
   "metadata": {},
   "outputs": [],
   "source": [
    "data.sort_index(ascending=True,inplace=True)"
   ]
  },
  {
   "cell_type": "markdown",
   "metadata": {},
   "source": [
    "### 2.2 comput total tickets depending in current selling situations\n"
   ]
  },
  {
   "cell_type": "code",
   "execution_count": 14,
   "metadata": {},
   "outputs": [
    {
     "name": "stdout",
     "output_type": "stream",
     "text": [
      "A 5400\n",
      "B 1669\n"
     ]
    }
   ],
   "source": [
    "# 非搖滾區共有\n",
    "print(\"A\",len(data[data[\"WITH_SEAT\"]==\"A\"]))\n",
    "# 搖滾區共有\n",
    "print(\"B\",len(data[data[\"WITH_SEAT\"]==\"B\"]))"
   ]
  },
  {
   "cell_type": "code",
   "execution_count": 15,
   "metadata": {},
   "outputs": [],
   "source": [
    "AT=len(data[data[\"WITH_SEAT\"]==\"A\"])\n",
    "BT=len(data[data[\"WITH_SEAT\"]==\"B\"])"
   ]
  },
  {
   "cell_type": "code",
   "execution_count": 16,
   "metadata": {},
   "outputs": [],
   "source": [
    "S=[\"A\",\"B\"]\n",
    "tic=[AT-1,BT-1]\n",
    "total=dict(zip(S,tic))"
   ]
  },
  {
   "cell_type": "code",
   "execution_count": 17,
   "metadata": {},
   "outputs": [],
   "source": [
    "# 計算個別販售狀況的票數\n",
    "tickets=[]\n",
    "for tp in data[\"WITH_SEAT\"]:\n",
    "    cur_num = total[tp]\n",
    "    tickets.append(cur_num)\n",
    "    total[tp]-=1\n",
    "data[\"CUR_TICKET\"]=tickets"
   ]
  },
  {
   "cell_type": "code",
   "execution_count": 18,
   "metadata": {},
   "outputs": [],
   "source": [
    "# 計算總票數\n",
    "data[\"Total\"]=data[\"WITH_SEAT\"].map({\"A\":AT,\"B\":BT})"
   ]
  },
  {
   "cell_type": "code",
   "execution_count": 19,
   "metadata": {},
   "outputs": [],
   "source": [
    "data[\"Frequency\"]=data[\"CUR_TICKET\"]/data[\"Total\"]"
   ]
  },
  {
   "cell_type": "markdown",
   "metadata": {},
   "source": [
    "# Q2. Selling Speed Analyze The A and B for T1 T2\n",
    "- T1 (12:00 -16:00 PM on Sept 18 2010)\n",
    "- T2 (16:00-20:00 Sept. 18 .2010)"
   ]
  },
  {
   "cell_type": "markdown",
   "metadata": {},
   "source": [
    "# 圖形化"
   ]
  },
  {
   "cell_type": "code",
   "execution_count": 20,
   "metadata": {},
   "outputs": [
    {
     "data": {
      "text/plain": [
       "<seaborn.axisgrid.FacetGrid at 0x1a0b720518>"
      ]
     },
     "execution_count": 20,
     "metadata": {},
     "output_type": "execute_result"
    },
    {
     "data": {
      "image/png": "[encoded data removed]",
      "text/plain": [
       "<matplotlib.figure.Figure at 0x1a0b759b38>"
      ]
     },
     "metadata": {},
     "output_type": "display_data"
    }
   ],
   "source": [
    "T1=data.truncate(\"2010-09-18 12:00:00\",\"2010-09-18 16:00:00\").copy()\n",
    "Tt1=T1.reset_index().copy()\n",
    "g=sns.FacetGrid(data=Tt1,col=\"WITH_SEAT\",size=6,aspect=1.5,sharey=False,col_order=[\"A\",\"B\"])\n",
    "g.map(plt.plot,\"CREATE_DATE\",\"CUR_TICKET\")\n",
    "g.add_legend()"
   ]
  },
  {
   "cell_type": "code",
   "execution_count": 21,
   "metadata": {},
   "outputs": [
    {
     "data": {
      "text/plain": [
       "<seaborn.axisgrid.FacetGrid at 0x1a14ae4588>"
      ]
     },
     "execution_count": 21,
     "metadata": {},
     "output_type": "execute_result"
    },
    {
     "data": {
      "image/png": "[encoded data removed]",
      "text/plain": [
       "<matplotlib.figure.Figure at 0x1a14ab4048>"
      ]
     },
     "metadata": {},
     "output_type": "display_data"
    }
   ],
   "source": [
    "T2=data.truncate(\"2010-09-18 16:00:00\",\"2010-09-18 20:00:00\").copy()\n",
    "#T2.reset_index(inplace=True)\n",
    "Tt2=T2.reset_index().copy()\n",
    "g=sns.FacetGrid(data=Tt2,col=\"WITH_SEAT\",size=6,aspect=2,sharey=True,col_order=[\"A\",\"B\"])\n",
    "g.map(plt.plot,\"CREATE_DATE\",\"CUR_TICKET\")\n",
    "g.add_legend()"
   ]
  },
  {
   "cell_type": "markdown",
   "metadata": {},
   "source": [
    "# 數據化"
   ]
  },
  {
   "cell_type": "code",
   "execution_count": 22,
   "metadata": {},
   "outputs": [],
   "source": [
    "def computeSellingSpeed(data,dataname,mask):\n",
    "    if dataname==\"T1\":\n",
    "        timeName=\"2010-09-18 12:00:00-16:00:00\"\n",
    "    else:\n",
    "        timeName=\"2010-09-18 16:00:00-20:00:00\"\n",
    "    \n",
    "    start_time=data[data[\"WITH_SEAT\"]==mask][\"CUR_TICKET\"].idxmax()\n",
    "    end_time=data[data[\"WITH_SEAT\"]==mask][\"CUR_TICKET\"].idxmin()\n",
    "    start_ticket=data[data[\"WITH_SEAT\"]==mask][\"CUR_TICKET\"].max()\n",
    "    end_ticket=data[data[\"WITH_SEAT\"]==mask][\"CUR_TICKET\"].min()\n",
    "    \n",
    "    #計算時間變化量\n",
    "    timeDelta=end_time-start_time\n",
    "    timeDelta=round(timeDelta.seconds/3600,2)\n",
    "    \n",
    "    # 計算販售票數變化量與平均\n",
    "    ticketDelta=start_ticket-end_ticket+1\n",
    "    average=round(ticketDelta/timeDelta,2)\n",
    "    \n",
    "    str1=\"該時段起始時間至最後區間為：{} -> {}，販售票數變化狀況：{} -> {}\".format(start_time,end_time,start_ticket,end_ticket)\n",
    "    str2=\"{} in {} ({})\\n共銷售{}張，時間{}小時，\\n平均一小時販售{}張：\".format(mask,dataname,timeName,ticketDelta,timeDelta,average)\n",
    "    return str1+\"\\n\"+str2"
   ]
  },
  {
   "cell_type": "code",
   "execution_count": 23,
   "metadata": {},
   "outputs": [
    {
     "name": "stdout",
     "output_type": "stream",
     "text": [
      "該時段起始時間至最後區間為：2010-09-18 13:18:55 -> 2010-09-18 15:59:37，販售票數變化狀況：5399 -> 4411\n",
      "A in T1 (2010-09-18 12:00:00-16:00:00)\n",
      "共銷售989張，時間2.68小時，\n",
      "平均一小時販售369.03張： \n",
      "\n",
      "該時段起始時間至最後區間為：2010-09-18 13:22:33 -> 2010-09-18 15:56:24，販售票數變化狀況：1668 -> 1414\n",
      "B in T1 (2010-09-18 12:00:00-16:00:00)\n",
      "共銷售255張，時間2.56小時，\n",
      "平均一小時販售99.61張： \n",
      "\n",
      "該時段起始時間至最後區間為：2010-09-18 16:00:07 -> 2010-09-18 19:59:54，販售票數變化狀況：4410 -> 1519\n",
      "A in T2 (2010-09-18 16:00:00-20:00:00)\n",
      "共銷售2892張，時間4.0小時，\n",
      "平均一小時販售723.0張： \n",
      "\n",
      "該時段起始時間至最後區間為：2010-09-18 16:00:05 -> 2010-09-18 19:19:20，販售票數變化狀況：1413 -> 524\n",
      "B in T2 (2010-09-18 16:00:00-20:00:00)\n",
      "共銷售890張，時間3.32小時，\n",
      "平均一小時販售268.07張： \n",
      "\n"
     ]
    }
   ],
   "source": [
    "print(computeSellingSpeed(T1,\"T1\",\"A\"),\"\\n\")\n",
    "print(computeSellingSpeed(T1,\"T1\",\"B\"),\"\\n\")\n",
    "print(computeSellingSpeed(T2,\"T2\",\"A\"),\"\\n\")\n",
    "print(computeSellingSpeed(T2,\"T2\",\"B\"),\"\\n\")"
   ]
  },
  {
   "cell_type": "markdown",
   "metadata": {},
   "source": [
    "# Q3.  define a new measurement to estimate the \" system loading\"  (how busy the system is) during  T1"
   ]
  },
  {
   "cell_type": "code",
   "execution_count": 24,
   "metadata": {},
   "outputs": [],
   "source": [
    "mask=T1[\"WITH_SEAT\"]==\"A\"\n",
    "mask1=T1[\"WITH_SEAT\"]==\"B\""
   ]
  },
  {
   "cell_type": "markdown",
   "metadata": {},
   "source": [
    "## 3.1 define the function to compute system loading in another angle "
   ]
  },
  {
   "cell_type": "code",
   "execution_count": 25,
   "metadata": {},
   "outputs": [],
   "source": [
    "# 同一個 ORDER_ID代表這些票數是同一個人訂的，若不連號，代表有人訂但沒訂到，每訂幾張或是每個人\n",
    "def computeBusy(data,dataname,mask,viewpoint):\n",
    "    ma=data[\"WITH_SEAT\"]==mask\n",
    "    \n",
    "    # show info \n",
    "    print(dataname,\":\",viewpoint)\n",
    "    #print(\"共有幾張票售出 : \",len(data[ma]))\n",
    "    print(\"編號 Range : \",data[ma][\"ORDER_ID\"].max()-data[ma][\"ORDER_ID\"].min())\n",
    "    print(\"編號不重複數: \",len(data[ma][\"ORDER_ID\"].value_counts()))\n",
    "    print(\"總共流失多少人:\",data[ma][\"ORDER_ID\"].max()-data[ma][\"ORDER_ID\"].min()-len(data[ma][\"ORDER_ID\"].value_counts()))\n",
    "    dif=[]\n",
    "    dih=[]\n",
    "    count=1\n",
    "    \n",
    "    if viewpoint==\"票數觀點\":\n",
    "        ind=data[ma][\"ORDER_ID\"]\n",
    "       \n",
    "        # 並不會知道那些斷掉的人訂了多少張票\n",
    "        for index in range(0,len(ind)-1):\n",
    "            if ind[index+1]-ind[index]>1:\n",
    "                dif.append(count)\n",
    "                count=1\n",
    "            else:\n",
    "                count+=1 #紀錄連續的票數\n",
    "        return \"{} in {}:\\n平均能承受的最大連續訂票張數:{}\\n平均能承受訂票張數:{}\".format(mask,dataname,np.max(dif),round(np.mean(dif),3))\n",
    "    elif viewpoint==\"人數觀點\":\n",
    "        ind=data[ma][\"ORDER_ID\"].value_counts().sort_index().index\n",
    "       \n",
    "        for index in range(0,len(ind)-1):\n",
    "            if ind[index+1]-ind[index]>1: # 代表不連號\n",
    "                dif.append(count)\n",
    "                count=1\n",
    "            else:\n",
    "                count+=1\n",
    "   \n",
    "        for index in range(0,len(ind)-1):\n",
    "            if ind[index+1]-ind[index]>1: # 代表不連號\n",
    "                dih.append(ind[index+1]-ind[index])\n",
    "            else:\n",
    "                pass\n",
    "        return \"{} in {}:\\n共跳號幾次:{}\\n最大能承受的請求數(人數):{}\\n平均能承受的請求數(人數):{}\\n最大流失多少人:{}\\n平均流失多少人:{}\".format(mask,dataname,np.size(dif),np.max(dif),round(np.mean(dif),3),np.max(dih),round(np.mean(dih),3))\n",
    "        \n",
    "        "
   ]
  },
  {
   "cell_type": "markdown",
   "metadata": {},
   "source": [
    "## 3.2 Result"
   ]
  },
  {
   "cell_type": "code",
   "execution_count": 26,
   "metadata": {},
   "outputs": [
    {
     "name": "stdout",
     "output_type": "stream",
     "text": [
      "T1 : 票數觀點\n",
      "編號 Range :  567\n",
      "編號不重複數:  390\n",
      "總共流失多少人: 177\n",
      "A in T1:\n",
      "平均能承受的最大連續訂票張數:27\n",
      "平均能承受訂票張數:7.605 \n",
      "-----------------\n",
      "\n",
      "T1 : 票數觀點\n",
      "編號 Range :  554\n",
      "編號不重複數:  94\n",
      "總共流失多少人: 460\n",
      "B in T1:\n",
      "平均能承受的最大連續訂票張數:13\n",
      "平均能承受訂票張數:3.392 \n",
      "-----------------\n",
      "\n",
      "T2 : 票數觀點\n",
      "編號 Range :  2249\n",
      "編號不重複數:  1296\n",
      "總共流失多少人: 953\n",
      "A in T2:\n",
      "平均能承受的最大連續訂票張數:31\n",
      "平均能承受訂票張數:4.915 \n",
      "-----------------\n",
      "\n",
      "T2 : 票數觀點\n",
      "編號 Range :  2043\n",
      "編號不重複數:  426\n",
      "總共流失多少人: 1617\n",
      "B in T2:\n",
      "平均能承受的最大連續訂票張數:10\n",
      "平均能承受訂票張數:2.614 \n",
      "-----------------\n",
      "\n"
     ]
    }
   ],
   "source": [
    "#已新增票數的角度去看\n",
    "print(computeBusy(T1,\"T1\",\"A\",\"票數觀點\"),\"\\n-----------------\\n\")\n",
    "print(computeBusy(T1,\"T1\",\"B\",\"票數觀點\"),\"\\n-----------------\\n\")\n",
    "print(computeBusy(T2,\"T2\",\"A\",\"票數觀點\"),\"\\n-----------------\\n\")\n",
    "print(computeBusy(T2,\"T2\",\"B\",\"票數觀點\"),\"\\n-----------------\\n\")"
   ]
  },
  {
   "cell_type": "code",
   "execution_count": 27,
   "metadata": {
    "scrolled": true
   },
   "outputs": [
    {
     "name": "stdout",
     "output_type": "stream",
     "text": [
      "T1 : 人數觀點\n",
      "編號 Range :  567\n",
      "編號不重複數:  390\n",
      "總共流失多少人: 177\n",
      "A in T1:\n",
      "共跳號幾次:127\n",
      "最大能承受的請求數(人數):11\n",
      "平均能承受的請求數(人數):3.047\n",
      "最大流失多少人:6\n",
      "平均流失多少人:2.402 \n",
      "-----------------\n",
      "\n",
      "T1 : 人數觀點\n",
      "編號 Range :  554\n",
      "編號不重複數:  94\n",
      "總共流失多少人: 460\n",
      "B in T1:\n",
      "共跳號幾次:73\n",
      "最大能承受的請求數(人數):4\n",
      "平均能承受的請求數(人數):1.274\n",
      "最大流失多少人:29\n",
      "平均流失多少人:7.315 \n",
      "-----------------\n",
      "\n",
      "T2 : 人數觀點\n",
      "編號 Range :  2249\n",
      "編號不重複數:  1296\n",
      "總共流失多少人: 953\n",
      "A in T2:\n",
      "共跳號幾次:544\n",
      "最大能承受的請求數(人數):14\n",
      "平均能承受的請求數(人數):2.377\n",
      "最大流失多少人:11\n",
      "平均流失多少人:2.754 \n",
      "-----------------\n",
      "\n",
      "T2 : 人數觀點\n",
      "編號 Range :  2043\n",
      "編號不重複數:  426\n",
      "總共流失多少人: 1617\n",
      "B in T2:\n",
      "共跳號幾次:334\n",
      "最大能承受的請求數(人數):5\n",
      "平均能承受的請求數(人數):1.272\n",
      "最大流失多少人:27\n",
      "平均流失多少人:5.844 \n",
      "-----------------\n",
      "\n"
     ]
    }
   ],
   "source": [
    "#計算連續與斷裂的平均\n",
    "print(computeBusy(T1,\"T1\",\"A\",\"人數觀點\"),\"\\n-----------------\\n\")\n",
    "print(computeBusy(T1,\"T1\",\"B\",\"人數觀點\"),\"\\n-----------------\\n\")\n",
    "print(computeBusy(T2,\"T2\",\"A\",\"人數觀點\"),\"\\n-----------------\\n\")\n",
    "print(computeBusy(T2,\"T2\",\"B\",\"人數觀點\"),\"\\n-----------------\\n\")"
   ]
  },
  {
   "cell_type": "code",
   "execution_count": null,
   "metadata": {},
   "outputs": [],
   "source": []
  }
 ],
 "metadata": {
  "kernelspec": {
   "display_name": "Python 3",
   "language": "python",
   "name": "python3"
  },
  "language_info": {
   "codemirror_mode": {
    "name": "ipython",
    "version": 3
   },
   "file_extension": ".py",
   "mimetype": "text/x-python",
   "name": "python",
   "nbconvert_exporter": "python",
   "pygments_lexer": "ipython3",
   "version": "3.6.4"
  }
 },
 "nbformat": 4,
 "nbformat_minor": 2
}
